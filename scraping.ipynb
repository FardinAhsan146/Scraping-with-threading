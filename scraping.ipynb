{
 "cells": [
  {
   "cell_type": "markdown",
   "metadata": {},
   "source": [
    "# Scraping airport data and using threading to make it not take all year."
   ]
  },
  {
   "cell_type": "markdown",
   "metadata": {},
   "source": [
    "My dad wanted the distance from a few airports to many other airports and the resulting data written to an excel file. I'll explore threading a bit to see how it speeds up relatively lengthy web scraping tasks."
   ]
  },
  {
   "cell_type": "code",
   "execution_count": 2,
   "metadata": {},
   "outputs": [],
   "source": [
    "from html_table_parser.parser import HTMLTableParser\n",
    "from pprint import pprint\n",
    "import urllib.request\n",
    "import pandas as pd\n",
    "import numpy as np\n",
    "import stringcase\n",
    "import re\n",
    "import concurrent.futures \n",
    "import time"
   ]
  },
  {
   "cell_type": "code",
   "execution_count": 5,
   "metadata": {},
   "outputs": [],
   "source": [
    "def get_airport(airport):\n",
    "    \n",
    "    \"\"\"\n",
    "    Returns dataframe \n",
    "    \n",
    "    args: airport = airport IATA code\n",
    "    \n",
    "    \"\"\"\n",
    "    url = f'https://www.aircalculator.com/great_circle_flight_routes.php?from={airport}'\n",
    "\n",
    "    agent = \\\n",
    "        'Mozilla/5.0 (Macintosh; Intel Mac OS X 10_9_3)\\\n",
    "        AppleWebKit/537.36\\\n",
    "        (KHTML, like Gecko) Chrome/35.0.1916.47 Safari/537.36'                                       \n",
    "    req = urllib.request.Request(url=url,\n",
    "                                     headers={'User-Agent': agent})\n",
    "    f = urllib.request.urlopen(req)\n",
    "    xhtml = f.read().decode('utf-8')\n",
    "    p = HTMLTableParser()\n",
    "    p.feed(xhtml)\n",
    "    df = pd.DataFrame(p.tables[0])\n",
    "    df.columns = df.iloc[0]\n",
    "    df = df.iloc[1:,0:-1]\n",
    "    return df\n",
    "    "
   ]
  },
  {
   "cell_type": "code",
   "execution_count": 6,
   "metadata": {},
   "outputs": [
    {
     "data": {
      "text/html": [
       "<div>\n",
       "<style scoped>\n",
       "    .dataframe tbody tr th:only-of-type {\n",
       "        vertical-align: middle;\n",
       "    }\n",
       "\n",
       "    .dataframe tbody tr th {\n",
       "        vertical-align: top;\n",
       "    }\n",
       "\n",
       "    .dataframe thead th {\n",
       "        text-align: right;\n",
       "    }\n",
       "</style>\n",
       "<table border=\"1\" class=\"dataframe\">\n",
       "  <thead>\n",
       "    <tr style=\"text-align: right;\">\n",
       "      <th></th>\n",
       "      <th>IATA Code</th>\n",
       "      <th>Airport Name</th>\n",
       "      <th>Airport Location</th>\n",
       "      <th>Miles from DAC</th>\n",
       "    </tr>\n",
       "  </thead>\n",
       "  <tbody>\n",
       "    <tr>\n",
       "      <th>1</th>\n",
       "      <td>AAA</td>\n",
       "      <td>Anaa Airport</td>\n",
       "      <td>Anaa, Tuamotus, French Polynesia</td>\n",
       "      <td>8,815</td>\n",
       "    </tr>\n",
       "    <tr>\n",
       "      <th>2</th>\n",
       "      <td>AAB</td>\n",
       "      <td>Arrabury Airport</td>\n",
       "      <td>Arrabury, Queensland, Australia</td>\n",
       "      <td>4,859</td>\n",
       "    </tr>\n",
       "    <tr>\n",
       "      <th>3</th>\n",
       "      <td>AAC</td>\n",
       "      <td>El Arish International Airport</td>\n",
       "      <td>El Arish, Egypt</td>\n",
       "      <td>3,468</td>\n",
       "    </tr>\n",
       "    <tr>\n",
       "      <th>4</th>\n",
       "      <td>AAD</td>\n",
       "      <td>Ad-Dabbah Airport</td>\n",
       "      <td>Al Dabbah, Sudan</td>\n",
       "      <td>3,831</td>\n",
       "    </tr>\n",
       "    <tr>\n",
       "      <th>5</th>\n",
       "      <td>AAE</td>\n",
       "      <td>Rabah Bitat Airport</td>\n",
       "      <td>Annaba, Algeria</td>\n",
       "      <td>4,859</td>\n",
       "    </tr>\n",
       "    <tr>\n",
       "      <th>...</th>\n",
       "      <td>...</td>\n",
       "      <td>...</td>\n",
       "      <td>...</td>\n",
       "      <td>...</td>\n",
       "    </tr>\n",
       "    <tr>\n",
       "      <th>6234</th>\n",
       "      <td>ZWS</td>\n",
       "      <td>Stuttgart Hauptbahnhof</td>\n",
       "      <td>Stuttgart, Germany</td>\n",
       "      <td>4,606</td>\n",
       "    </tr>\n",
       "    <tr>\n",
       "      <th>6235</th>\n",
       "      <td>ZYI</td>\n",
       "      <td>Zunyi Xinzhou Airport</td>\n",
       "      <td>Zunyi, Guizhou, China</td>\n",
       "      <td>1,064</td>\n",
       "    </tr>\n",
       "    <tr>\n",
       "      <th>6236</th>\n",
       "      <td>ZYL</td>\n",
       "      <td>MAG Osmani International Airport</td>\n",
       "      <td>Sylhet, Bangladesh</td>\n",
       "      <td>120</td>\n",
       "    </tr>\n",
       "    <tr>\n",
       "      <th>6237</th>\n",
       "      <td>ZZU</td>\n",
       "      <td>Mzuzu Airport</td>\n",
       "      <td>Mzuzu, Malawi</td>\n",
       "      <td>4,520</td>\n",
       "    </tr>\n",
       "    <tr>\n",
       "      <th>6238</th>\n",
       "      <td>ZZV</td>\n",
       "      <td>Zanesville Municipal Airport</td>\n",
       "      <td>Zanesville, Ohio, United States</td>\n",
       "      <td>8,002</td>\n",
       "    </tr>\n",
       "  </tbody>\n",
       "</table>\n",
       "<p>6238 rows × 4 columns</p>\n",
       "</div>"
      ],
      "text/plain": [
       "0    IATA Code                      Airport Name  \\\n",
       "1          AAA                      Anaa Airport   \n",
       "2          AAB                  Arrabury Airport   \n",
       "3          AAC    El Arish International Airport   \n",
       "4          AAD                 Ad-Dabbah Airport   \n",
       "5          AAE               Rabah Bitat Airport   \n",
       "...        ...                               ...   \n",
       "6234       ZWS            Stuttgart Hauptbahnhof   \n",
       "6235       ZYI             Zunyi Xinzhou Airport   \n",
       "6236       ZYL  MAG Osmani International Airport   \n",
       "6237       ZZU                     Mzuzu Airport   \n",
       "6238       ZZV      Zanesville Municipal Airport   \n",
       "\n",
       "0                     Airport Location Miles from DAC  \n",
       "1     Anaa, Tuamotus, French Polynesia          8,815  \n",
       "2      Arrabury, Queensland, Australia          4,859  \n",
       "3                      El Arish, Egypt          3,468  \n",
       "4                     Al Dabbah, Sudan          3,831  \n",
       "5                      Annaba, Algeria          4,859  \n",
       "...                                ...            ...  \n",
       "6234                Stuttgart, Germany          4,606  \n",
       "6235             Zunyi, Guizhou, China          1,064  \n",
       "6236                Sylhet, Bangladesh            120  \n",
       "6237                     Mzuzu, Malawi          4,520  \n",
       "6238   Zanesville, Ohio, United States          8,002  \n",
       "\n",
       "[6238 rows x 4 columns]"
      ]
     },
     "execution_count": 6,
     "metadata": {},
     "output_type": "execute_result"
    }
   ],
   "source": [
    "get_airport('DAC')"
   ]
  },
  {
   "cell_type": "code",
   "execution_count": 10,
   "metadata": {},
   "outputs": [],
   "source": [
    "# just a list of random airports to test performance\n",
    "\n",
    "airports_list = get_airport('DAC')['IATA Code'].unique()[0:10]"
   ]
  },
  {
   "cell_type": "markdown",
   "metadata": {},
   "source": [
    "## Airport information"
   ]
  },
  {
   "cell_type": "code",
   "execution_count": 6,
   "metadata": {},
   "outputs": [],
   "source": [
    "def airport_info(airport):\n",
    "    url = f'https://www.aircalculator.com/flightplan.php?from={airport}&to=AAA'\n",
    "\n",
    "    agent = \\\n",
    "        'Mozilla/5.0 (Macintosh; Intel Mac OS X 10_9_3)\\\n",
    "        AppleWebKit/537.36\\\n",
    "        (KHTML, like Gecko) Chrome/35.0.1916.47 Safari/537.36'                                       \n",
    "    req = urllib.request.Request(url=url,\n",
    "                                     headers={'User-Agent': agent})\n",
    "    f = urllib.request.urlopen(req)\n",
    "    xhtml = f.read().decode('utf-8')\n",
    "    p = HTMLTableParser()\n",
    "    p.feed(xhtml)\n",
    "    df = pd.DataFrame(p.tables[0])\n",
    "    df = df.iloc[0:9]\n",
    "    df = df.T\n",
    "    df.columns = df.iloc[0]\n",
    "    return df.iloc[1:]\n",
    "    "
   ]
  },
  {
   "cell_type": "markdown",
   "metadata": {},
   "source": [
    "# Excel writer"
   ]
  },
  {
   "cell_type": "code",
   "execution_count": 8,
   "metadata": {},
   "outputs": [],
   "source": [
    "def write_excel(air_list):\n",
    "    \n",
    "    \"\"\"\n",
    "    pass a list of airport IATA codes\n",
    "    \n",
    "    \"\"\"\n",
    "#Uncomment to use    \n",
    "\n",
    "# writer = pd.ExcelWriter('dataframes.xlsx', engine='xlsxwriter')\n",
    "\n",
    "# with concurrent.futures.ThreadPoolExecutor() as executor:\n",
    "#     results = [executor.submit(get_airport,port) for port in airports_list]\n",
    "    \n",
    "#     data_frames = [df.result() for df in concurrent.futures.as_completed(results)]\n",
    "\n",
    "# for df,IATA in zip(data_frames,airports_list):\n",
    "#     df.to_excel(writer, sheet_name=IATA)\n",
    "\n",
    "# writer.save()"
   ]
  },
  {
   "cell_type": "markdown",
   "metadata": {},
   "source": [
    "# Checking performance"
   ]
  },
  {
   "cell_type": "markdown",
   "metadata": {},
   "source": [
    "## No threads"
   ]
  },
  {
   "cell_type": "code",
   "execution_count": 11,
   "metadata": {},
   "outputs": [
    {
     "name": "stdout",
     "output_type": "stream",
     "text": [
      "Finished in 76.85551009999995 seconds\n"
     ]
    }
   ],
   "source": [
    "t1 = time.perf_counter()\n",
    "\n",
    "for port in airports_list:\n",
    "    get_airport(port)\n",
    "\n",
    "t2 = time.perf_counter()\n",
    "\n",
    "print(f'Finished in {t2-t1} seconds')"
   ]
  },
  {
   "cell_type": "markdown",
   "metadata": {},
   "source": [
    "## With threading"
   ]
  },
  {
   "cell_type": "code",
   "execution_count": 12,
   "metadata": {},
   "outputs": [
    {
     "name": "stdout",
     "output_type": "stream",
     "text": [
      "Finished in 16.740458399999852 seconds\n"
     ]
    }
   ],
   "source": [
    "t1 = time.perf_counter()\n",
    "\n",
    "with concurrent.futures.ThreadPoolExecutor() as executor:\n",
    "    executor.map(get_airport, airports_list)\n",
    "\n",
    "t2 = time.perf_counter()\n",
    "\n",
    "print(f'Finished in {t2-t1} seconds')"
   ]
  },
  {
   "cell_type": "markdown",
   "metadata": {},
   "source": [
    "## Threading + list comprehension"
   ]
  },
  {
   "cell_type": "code",
   "execution_count": 22,
   "metadata": {},
   "outputs": [
    {
     "name": "stdout",
     "output_type": "stream",
     "text": [
      "Finished in 18.71802600000001 seconds\n"
     ]
    }
   ],
   "source": [
    "t1 = time.perf_counter()\n",
    "\n",
    "with concurrent.futures.ThreadPoolExecutor() as executor:\n",
    "    results = [executor.submit(get_airport,port) for port in airports_list]\n",
    "    \n",
    "    data_frames = [df.result() for df in concurrent.futures.as_completed(results)]\n",
    "\n",
    "t2 = time.perf_counter()\n",
    "\n",
    "print(f'Finished in {t2-t1} seconds')"
   ]
  },
  {
   "cell_type": "code",
   "execution_count": null,
   "metadata": {},
   "outputs": [],
   "source": []
  }
 ],
 "metadata": {
  "kernelspec": {
   "display_name": "Python 3",
   "language": "python",
   "name": "python3"
  },
  "language_info": {
   "codemirror_mode": {
    "name": "ipython",
    "version": 3
   },
   "file_extension": ".py",
   "mimetype": "text/x-python",
   "name": "python",
   "nbconvert_exporter": "python",
   "pygments_lexer": "ipython3",
   "version": "3.8.5"
  }
 },
 "nbformat": 4,
 "nbformat_minor": 4
}
